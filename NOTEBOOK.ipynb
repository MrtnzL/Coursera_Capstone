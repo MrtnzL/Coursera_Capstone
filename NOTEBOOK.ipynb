{
 "cells": [
  {
   "cell_type": "markdown",
   "id": "16338262-6bfd-444e-89e9-13a2555bbbb8",
   "metadata": {},
   "source": [
    "# Capstone Project - The Battle of the Neighborhoods"
   ]
  },
  {
   "cell_type": "markdown",
   "id": "cb499bb2-54c2-4b21-9fd5-9e91ebc7407c",
   "metadata": {},
   "source": [
    "## Applied Data Science Capstone by IBM/Coursera"
   ]
  },
  {
   "cell_type": "markdown",
   "id": "1f440c0d-60ee-4d61-ac72-820eda515736",
   "metadata": {},
   "source": [
    "### Marta Martinez Lopez"
   ]
  },
  {
   "cell_type": "markdown",
   "id": "1a4c301e-898f-4cfc-8aeb-9e21d5957410",
   "metadata": {},
   "source": [
    "# Introduction - Business Problem"
   ]
  },
  {
   "cell_type": "markdown",
   "id": "c4b9554c-19c6-489d-9757-8221416dcc3f",
   "metadata": {},
   "source": [
    "## Description of the problem and a discussion of the background"
   ]
  },
  {
   "cell_type": "markdown",
   "id": "8bc65f01-afc5-42ab-9379-c60cc171f694",
   "metadata": {},
   "source": [
    "The Lopez family lives in Madrid and for work reasons they have to move to a new city, Cordoba. They will be in Córdoba for the next month and a half, and during their stay they will live in the center of the city due to its proximity to the new work office. They will look for a hotel in the city center that is surrounded by restaurants in order to lead a life similar to the one they had in Madrid."
   ]
  },
  {
   "cell_type": "markdown",
   "id": "b047bda0-f66d-4a58-ba5e-b120f0395396",
   "metadata": {},
   "source": [
    "## Description of the data and how it will be used to solve the problem"
   ]
  },
  {
   "cell_type": "markdown",
   "id": "471f0d31-81a7-45e7-8d7e-cb8159028f3d",
   "metadata": {},
   "source": [
    "Sufficient data is needed to know which is the center of the new city. In addition, we must know which are the existing hotels in the center of the city of Córdoba to choose the appropriate one that is surrounded and supported by many restaurants. Therefore, we need data on the center of Córdoba and the number of hotels and their location and the number of restaurants and their location."
   ]
  },
  {
   "cell_type": "markdown",
   "id": "cca5d5ae-6e99-4e17-bafd-e8e13518986f",
   "metadata": {},
   "source": [
    "# Data"
   ]
  },
  {
   "cell_type": "markdown",
   "id": "83eb43c8-12fb-475f-8172-10559e9f8bfe",
   "metadata": {},
   "source": [
    "Based on definition of our problem, factors that will influence our decission are:\n",
    "\n",
    "- Number of existing hotels in the center of Cordoba (any type of restaurant)\n",
    "- Number of and distance to restaurants in the center\n",
    "- Distance of hotels and restaurants from city center\n",
    "\n",
    "Following data sources will be needed to extract/generate the required information:\n",
    "\n",
    "Centers of candidate areas will be generated algorithmically and approximate addresses of centers of those areas will be obtained using Google Maps API reverse geocoding\n",
    "number of restaurants and their type and location in every neighborhood will be obtained using Foursquare API\n"
   ]
  },
  {
   "cell_type": "markdown",
   "id": "4c707253-1a1c-441b-a0f1-05eb3eb1a359",
   "metadata": {},
   "source": [
    "# Methodology"
   ]
  },
  {
   "cell_type": "markdown",
   "id": "88d46e4b-e726-4908-9546-527bc5343401",
   "metadata": {},
   "source": [
    "In this project we will direct our efforts on detecting areas of the Cordoba's center that have hotels and restaurants.\n",
    "We will limit our analysis to area ~2km around city center.\n",
    "\n",
    "We have collected the required data: location and type (category) of every hotels + restaurants  within 2km from center (Tendillas Square). \n",
    "\n",
    "Next, we will focus on most promising areas and within those create clusters of locations that meet some basic requirements established in discussion with stakeholders: we will take into consideration locations with no more than two hotels and restaurants in radius of 250 meters. We will present map of all such locations but also create clusters (using k-means clustering) of those locations to identify general zones / neighborhoods / addresses which should be a starting point for final 'street level' exploration and search for optimal venue location by stakeholders."
   ]
  },
  {
   "cell_type": "markdown",
   "id": "47b9a511-4476-4337-b0e2-2f428fb4dd99",
   "metadata": {},
   "source": [
    "# Analysis"
   ]
  },
  {
   "cell_type": "code",
   "execution_count": 3,
   "id": "55ee78ed-95de-4a08-8d18-a7dfa4ace6ba",
   "metadata": {},
   "outputs": [
    {
     "ename": "NameError",
     "evalue": "name 'google_api_key' is not defined",
     "output_type": "error",
     "traceback": [
      "\u001b[0;31m---------------------------------------------------------------------------\u001b[0m",
      "\u001b[0;31mNameError\u001b[0m                                 Traceback (most recent call last)",
      "\u001b[0;32m<ipython-input-3-4d335755d757>\u001b[0m in \u001b[0;36m<module>\u001b[0;34m\u001b[0m\n\u001b[1;32m     16\u001b[0m \u001b[0;34m\u001b[0m\u001b[0m\n\u001b[1;32m     17\u001b[0m \u001b[0maddress\u001b[0m \u001b[0;34m=\u001b[0m \u001b[0;34m'Tendillas, Cordoba, Spain'\u001b[0m\u001b[0;34m\u001b[0m\u001b[0;34m\u001b[0m\u001b[0m\n\u001b[0;32m---> 18\u001b[0;31m \u001b[0mcordoba_center\u001b[0m \u001b[0;34m=\u001b[0m \u001b[0mget_coordinates\u001b[0m\u001b[0;34m(\u001b[0m\u001b[0mgoogle_api_key\u001b[0m\u001b[0;34m,\u001b[0m \u001b[0maddress\u001b[0m\u001b[0;34m)\u001b[0m\u001b[0;34m\u001b[0m\u001b[0;34m\u001b[0m\u001b[0m\n\u001b[0m\u001b[1;32m     19\u001b[0m \u001b[0mprint\u001b[0m\u001b[0;34m(\u001b[0m\u001b[0;34m'Coordinate of {}: {}'\u001b[0m\u001b[0;34m.\u001b[0m\u001b[0mformat\u001b[0m\u001b[0;34m(\u001b[0m\u001b[0maddress\u001b[0m\u001b[0;34m,\u001b[0m \u001b[0mcordoba_center\u001b[0m\u001b[0;34m)\u001b[0m\u001b[0;34m)\u001b[0m\u001b[0;34m\u001b[0m\u001b[0;34m\u001b[0m\u001b[0m\n",
      "\u001b[0;31mNameError\u001b[0m: name 'google_api_key' is not defined"
     ]
    }
   ],
   "source": [
    "import requests\n",
    "\n",
    "def get_coordinates(api_key, address, verbose=False):\n",
    "    try:\n",
    "        url = 'https://maps.googleapis.com/maps/api/geocode/json?key={}&address={}'.format(api_key, address)\n",
    "        response = requests.get(url).json()\n",
    "        if verbose:\n",
    "            print('Google Maps API JSON result =>', response)\n",
    "        results = response['results']\n",
    "        geographical_data = results[0]['geometry']['location'] # get geographical coordinates\n",
    "        lat = geographical_data['lat']\n",
    "        lon = geographical_data['lng']\n",
    "        return [lat, lon]\n",
    "    except:\n",
    "        return [None, None]\n",
    "    \n",
    "address = 'Tendillas, Cordoba, Spain'\n",
    "cordoba_center = get_coordinates(google_api_key, address)\n",
    "print('Coordinate of {}: {}'.format(address, cordoba_center))"
   ]
  },
  {
   "cell_type": "code",
   "execution_count": 4,
   "id": "59effa4d-a88e-4c73-86f6-84475b5d9617",
   "metadata": {},
   "outputs": [
    {
     "ename": "ModuleNotFoundError",
     "evalue": "No module named 'shapely'",
     "output_type": "error",
     "traceback": [
      "\u001b[0;31m---------------------------------------------------------------------------\u001b[0m",
      "\u001b[0;31mModuleNotFoundError\u001b[0m                       Traceback (most recent call last)",
      "\u001b[0;32m<ipython-input-4-c1717e4316d3>\u001b[0m in \u001b[0;36m<module>\u001b[0;34m\u001b[0m\n\u001b[1;32m      1\u001b[0m \u001b[0;31m#!pip install shapely\u001b[0m\u001b[0;34m\u001b[0m\u001b[0;34m\u001b[0m\u001b[0;34m\u001b[0m\u001b[0m\n\u001b[0;32m----> 2\u001b[0;31m \u001b[0;32mimport\u001b[0m \u001b[0mshapely\u001b[0m\u001b[0;34m.\u001b[0m\u001b[0mgeometry\u001b[0m\u001b[0;34m\u001b[0m\u001b[0;34m\u001b[0m\u001b[0m\n\u001b[0m\u001b[1;32m      3\u001b[0m \u001b[0;34m\u001b[0m\u001b[0m\n\u001b[1;32m      4\u001b[0m \u001b[0;31m#!pip install pyproj\u001b[0m\u001b[0;34m\u001b[0m\u001b[0;34m\u001b[0m\u001b[0;34m\u001b[0m\u001b[0m\n\u001b[1;32m      5\u001b[0m \u001b[0;32mimport\u001b[0m \u001b[0mpyproj\u001b[0m\u001b[0;34m\u001b[0m\u001b[0;34m\u001b[0m\u001b[0m\n",
      "\u001b[0;31mModuleNotFoundError\u001b[0m: No module named 'shapely'"
     ]
    }
   ],
   "source": [
    "#!pip install shapely\n",
    "import shapely.geometry\n",
    "\n",
    "#!pip install pyproj\n",
    "import pyproj\n",
    "\n",
    "import math\n",
    "\n",
    "def lonlat_to_xy(lon, lat):\n",
    "    proj_latlon = pyproj.Proj(proj='latlong',datum='WGS84')\n",
    "    proj_xy = pyproj.Proj(proj=\"utm\", zone=33, datum='WGS84')\n",
    "    xy = pyproj.transform(proj_latlon, proj_xy, lon, lat)\n",
    "    return xy[0], xy[1]\n",
    "\n",
    "def xy_to_lonlat(x, y):\n",
    "    proj_latlon = pyproj.Proj(proj='latlong',datum='WGS84')\n",
    "    proj_xy = pyproj.Proj(proj=\"utm\", zone=33, datum='WGS84')\n",
    "    lonlat = pyproj.transform(proj_xy, proj_latlon, x, y)\n",
    "    return lonlat[0], lonlat[1]\n",
    "\n",
    "def calc_xy_distance(x1, y1, x2, y2):\n",
    "    dx = x2 - x1\n",
    "    dy = y2 - y1\n",
    "    return math.sqrt(dx*dx + dy*dy)\n",
    "\n",
    "print('Coordinate transformation check')\n",
    "print('-------------------------------')\n",
    "print('Cordoba center longitude={}, latitude={}'.format(cordoba_center[1], cordoba_center[0]))\n",
    "x, y = lonlat_to_xy(cordoba_center[1], cordoba_center[0])\n",
    "print('Cordoba center UTM X={}, Y={}'.format(x, y))\n",
    "lo, la = xy_to_lonlat(x, y)\n",
    "print('Cordoba center longitude={}, latitude={}'.format(lo, la))"
   ]
  },
  {
   "cell_type": "code",
   "execution_count": 1,
   "id": "6e600899-bdbe-42a4-9bad-1295bade244b",
   "metadata": {},
   "outputs": [
    {
     "ename": "NameError",
     "evalue": "name 'location_restaurants' is not defined",
     "output_type": "error",
     "traceback": [
      "\u001b[0;31m---------------------------------------------------------------------------\u001b[0m",
      "\u001b[0;31mNameError\u001b[0m                                 Traceback (most recent call last)",
      "\u001b[0;32m<ipython-input-1-368f487dcd0a>\u001b[0m in \u001b[0;36m<module>\u001b[0;34m\u001b[0m\n\u001b[0;32m----> 1\u001b[0;31m \u001b[0mlocation_restaurants_count\u001b[0m \u001b[0;34m=\u001b[0m \u001b[0;34m[\u001b[0m\u001b[0mlen\u001b[0m\u001b[0;34m(\u001b[0m\u001b[0mres\u001b[0m\u001b[0;34m)\u001b[0m \u001b[0;32mfor\u001b[0m \u001b[0mres\u001b[0m \u001b[0;32min\u001b[0m \u001b[0mlocation_restaurants\u001b[0m\u001b[0;34m]\u001b[0m\u001b[0;34m\u001b[0m\u001b[0;34m\u001b[0m\u001b[0m\n\u001b[0m\u001b[1;32m      2\u001b[0m \u001b[0;34m\u001b[0m\u001b[0m\n\u001b[1;32m      3\u001b[0m \u001b[0mdf_locations\u001b[0m\u001b[0;34m[\u001b[0m\u001b[0;34m'Restaurants in area'\u001b[0m\u001b[0;34m]\u001b[0m \u001b[0;34m=\u001b[0m \u001b[0mlocation_restaurants_count\u001b[0m\u001b[0;34m\u001b[0m\u001b[0;34m\u001b[0m\u001b[0m\n\u001b[1;32m      4\u001b[0m \u001b[0;34m\u001b[0m\u001b[0m\n\u001b[1;32m      5\u001b[0m \u001b[0mprint\u001b[0m\u001b[0;34m(\u001b[0m\u001b[0;34m'Average number of restaurants in every area with radius=300m:'\u001b[0m\u001b[0;34m,\u001b[0m \u001b[0mnp\u001b[0m\u001b[0;34m.\u001b[0m\u001b[0marray\u001b[0m\u001b[0;34m(\u001b[0m\u001b[0mlocation_restaurants_count\u001b[0m\u001b[0;34m)\u001b[0m\u001b[0;34m.\u001b[0m\u001b[0mmean\u001b[0m\u001b[0;34m(\u001b[0m\u001b[0;34m)\u001b[0m\u001b[0;34m)\u001b[0m\u001b[0;34m\u001b[0m\u001b[0;34m\u001b[0m\u001b[0m\n",
      "\u001b[0;31mNameError\u001b[0m: name 'location_restaurants' is not defined"
     ]
    }
   ],
   "source": [
    "location_restaurants_count = [len(res) for res in location_restaurants]\n",
    "\n",
    "df_locations['Restaurants in area'] = location_restaurants_count\n",
    "\n",
    "print('Average number of restaurants in every area with radius=300m:', np.array(location_restaurants_count).mean())\n",
    "\n",
    "df_locations.head(10)"
   ]
  },
  {
   "cell_type": "code",
   "execution_count": 5,
   "id": "caae688e-601f-482f-9665-f97582d8aee2",
   "metadata": {},
   "outputs": [],
   "source": [
    "#!pip install folium\n",
    "\n",
    "import folium"
   ]
  },
  {
   "cell_type": "code",
   "execution_count": 6,
   "id": "8ab26c74-729d-4be0-a49d-74e6321c43d2",
   "metadata": {},
   "outputs": [
    {
     "ename": "NameError",
     "evalue": "name 'cordoba_center' is not defined",
     "output_type": "error",
     "traceback": [
      "\u001b[0;31m---------------------------------------------------------------------------\u001b[0m",
      "\u001b[0;31mNameError\u001b[0m                                 Traceback (most recent call last)",
      "\u001b[0;32m<ipython-input-6-471b484d318b>\u001b[0m in \u001b[0;36m<module>\u001b[0;34m\u001b[0m\n\u001b[0;32m----> 1\u001b[0;31m \u001b[0mmap_cordoba\u001b[0m \u001b[0;34m=\u001b[0m \u001b[0mfolium\u001b[0m\u001b[0;34m.\u001b[0m\u001b[0mMap\u001b[0m\u001b[0;34m(\u001b[0m\u001b[0mlocation\u001b[0m\u001b[0;34m=\u001b[0m\u001b[0mcordoba_center\u001b[0m\u001b[0;34m,\u001b[0m \u001b[0mzoom_start\u001b[0m\u001b[0;34m=\u001b[0m\u001b[0;36m13\u001b[0m\u001b[0;34m)\u001b[0m\u001b[0;34m\u001b[0m\u001b[0;34m\u001b[0m\u001b[0m\n\u001b[0m\u001b[1;32m      2\u001b[0m \u001b[0mfolium\u001b[0m\u001b[0;34m.\u001b[0m\u001b[0mMarker\u001b[0m\u001b[0;34m(\u001b[0m\u001b[0mcordoba_center\u001b[0m\u001b[0;34m,\u001b[0m \u001b[0mpopup\u001b[0m\u001b[0;34m=\u001b[0m\u001b[0;34m'Tendillas'\u001b[0m\u001b[0;34m)\u001b[0m\u001b[0;34m.\u001b[0m\u001b[0madd_to\u001b[0m\u001b[0;34m(\u001b[0m\u001b[0mmap_berlin\u001b[0m\u001b[0;34m)\u001b[0m\u001b[0;34m\u001b[0m\u001b[0;34m\u001b[0m\u001b[0m\n\u001b[1;32m      3\u001b[0m \u001b[0;32mfor\u001b[0m \u001b[0mlat\u001b[0m\u001b[0;34m,\u001b[0m \u001b[0mlon\u001b[0m \u001b[0;32min\u001b[0m \u001b[0mzip\u001b[0m\u001b[0;34m(\u001b[0m\u001b[0mlatitudes\u001b[0m\u001b[0;34m,\u001b[0m \u001b[0mlongitudes\u001b[0m\u001b[0;34m)\u001b[0m\u001b[0;34m:\u001b[0m\u001b[0;34m\u001b[0m\u001b[0;34m\u001b[0m\u001b[0m\n\u001b[1;32m      4\u001b[0m     \u001b[0;31m#folium.CircleMarker([lat, lon], radius=2, color='blue', fill=True, fill_color='blue', fill_opacity=1).add_to(map_berlin)\u001b[0m\u001b[0;34m\u001b[0m\u001b[0;34m\u001b[0m\u001b[0;34m\u001b[0m\u001b[0m\n\u001b[1;32m      5\u001b[0m     \u001b[0mfolium\u001b[0m\u001b[0;34m.\u001b[0m\u001b[0mCircle\u001b[0m\u001b[0;34m(\u001b[0m\u001b[0;34m[\u001b[0m\u001b[0mlat\u001b[0m\u001b[0;34m,\u001b[0m \u001b[0mlon\u001b[0m\u001b[0;34m]\u001b[0m\u001b[0;34m,\u001b[0m \u001b[0mradius\u001b[0m\u001b[0;34m=\u001b[0m\u001b[0;36m300\u001b[0m\u001b[0;34m,\u001b[0m \u001b[0mcolor\u001b[0m\u001b[0;34m=\u001b[0m\u001b[0;34m'blue'\u001b[0m\u001b[0;34m,\u001b[0m \u001b[0mfill\u001b[0m\u001b[0;34m=\u001b[0m\u001b[0;32mFalse\u001b[0m\u001b[0;34m)\u001b[0m\u001b[0;34m.\u001b[0m\u001b[0madd_to\u001b[0m\u001b[0;34m(\u001b[0m\u001b[0mmap_berlin\u001b[0m\u001b[0;34m)\u001b[0m\u001b[0;34m\u001b[0m\u001b[0;34m\u001b[0m\u001b[0m\n",
      "\u001b[0;31mNameError\u001b[0m: name 'cordoba_center' is not defined"
     ]
    }
   ],
   "source": [
    "map_cordoba = folium.Map(location=cordoba_center, zoom_start=13)\n",
    "folium.Marker(cordoba_center, popup='Tendillas').add_to(map_berlin)\n",
    "for lat, lon in zip(latitudes, longitudes):\n",
    "    #folium.CircleMarker([lat, lon], radius=2, color='blue', fill=True, fill_color='blue', fill_opacity=1).add_to(map_berlin) \n",
    "    folium.Circle([lat, lon], radius=300, color='blue', fill=False).add_to(map_berlin)\n",
    "    #folium.Marker([lat, lon]).add_to(map_berlin)\n",
    "map_cordoba"
   ]
  },
  {
   "cell_type": "markdown",
   "id": "64432609-4dc0-4ddb-a3ce-a12a61be28d6",
   "metadata": {},
   "source": [
    "# Results"
   ]
  },
  {
   "cell_type": "markdown",
   "id": "33c254b7-55ab-4612-842a-cff0648548a7",
   "metadata": {},
   "source": [
    "Our analysis shows that although there is a great number of hotels and restaurants in Cordoba.\n",
    "Highest concentration of restaurants was detected west from Tendillas Square (center Point), ad in the north from Tendillas there are a lot of hotels.\n",
    "\n",
    "After directing our attention to this more narrow area of interest (covering approx. 5x5km south-east from Tendillas) we first created a dense grid of location candidates (spaced 100m appart); those locations were then filtered so that those with more than two hotels+ restaurants in radius of 250m.\n",
    "\n",
    "Those location candidates were then clustered to create zones of interest which contain greatest number of location candidates. Addresses of centers of those zones were also generated using reverse geocoding to be used as markers/starting points for more detailed local analysis based on other factors.\n"
   ]
  },
  {
   "cell_type": "markdown",
   "id": "ce1aa042-019b-4401-9d84-f19129063acf",
   "metadata": {},
   "source": [
    "# Conclusion"
   ]
  },
  {
   "cell_type": "markdown",
   "id": "6e0f4228-3c57-45c8-99d5-1fb1398f7541",
   "metadata": {},
   "source": [
    "Purpose of this project was to identify Cordoba areas close to center with the mains hotels and restaurants in order to aid stakeholders in narrowing down the search for optimal location fnt. By calculating restaurant density distribution from Foursquare data we have first identified general boroughs that justify further analysis (Kreuzberg and Friedrichshain), and then generated extensive collection of locations which satisfy some basic requirements regarding existing nearby restaurants. Clustering of those locations was then performed in order to create major zones of interest (containing greatest number of potential locations) and addresses of those zone centers were created to be used as starting points for final exploration by stakeholders.\n",
    "\n",
    "Final decission on optimal restaurant location will be made by stakeholders based on specific characteristics of neighborhoods and locations in every recommended zone, taking into consideration additional factors like attractiveness of each location (proximity to park or water), levels of noise / proximity to major roads, real estate availability, prices, social and economic dynamics of every neighborhood etc."
   ]
  }
 ],
 "metadata": {
  "kernelspec": {
   "display_name": "Python",
   "language": "python",
   "name": "conda-env-python-py"
  },
  "language_info": {
   "codemirror_mode": {
    "name": "ipython",
    "version": 3
   },
   "file_extension": ".py",
   "mimetype": "text/x-python",
   "name": "python",
   "nbconvert_exporter": "python",
   "pygments_lexer": "ipython3",
   "version": "3.6.13"
  }
 },
 "nbformat": 4,
 "nbformat_minor": 5
}
