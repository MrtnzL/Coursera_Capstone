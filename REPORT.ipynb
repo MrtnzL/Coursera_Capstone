{
 "cells": [
  {
   "cell_type": "markdown",
   "id": "e5362f01-8f3a-48c5-8d66-d0e5769009f4",
   "metadata": {},
   "source": [
    "# Capstone Project - The Battle of the Neighborhoods"
   ]
  },
  {
   "cell_type": "markdown",
   "id": "c6b5a530-8fdd-4520-99a8-50b3f98ea083",
   "metadata": {},
   "source": [
    "## Applied Data Science Capstone by IBM/Coursera"
   ]
  },
  {
   "cell_type": "markdown",
   "id": "1bce2e0b-b597-40de-9bb1-40bba2b5eef8",
   "metadata": {},
   "source": [
    "### MARTA MARTINEZ LOPEZ"
   ]
  },
  {
   "cell_type": "markdown",
   "id": "194354d5-0b31-4f01-99b1-e8d47c8532da",
   "metadata": {},
   "source": [
    "# 1. Introduction - Business Problem"
   ]
  },
  {
   "cell_type": "markdown",
   "id": "e6c2cc5f-b34b-47ec-8b57-03a4989f57a4",
   "metadata": {},
   "source": [
    "## Description of the problem and a discussion of the background"
   ]
  },
  {
   "cell_type": "markdown",
   "id": "e88e97a0-bba9-4db2-a52d-8b6d51bf330b",
   "metadata": {},
   "source": [
    "The Lopez family lives in Madrid and for work reasons they have to move to a new city, Cordoba. They will be in Córdoba for the next month and a half, and during their stay they will live in the center of the city due to its proximity to the new work office. They will look for a hotel in the city center that is surrounded by restaurants in order to lead a life similar to the one they had in Madrid."
   ]
  },
  {
   "cell_type": "markdown",
   "id": "07d2548c-3a52-43de-9e53-240cc4a8b42b",
   "metadata": {},
   "source": [
    "## Description the data"
   ]
  },
  {
   "cell_type": "markdown",
   "id": "26ad84bd-43f7-4eb5-bee1-b4caa7db1d79",
   "metadata": {},
   "source": [
    "Sufficient data is needed to know which is the center of the new city. In addition, we must know which are the existing hotels in the center of the city of Córdoba to choose the appropriate one that is surrounded and supported by many restaurants. Therefore, we need data on the center of Córdoba and the number of hotels and their location and the number of restaurants and their location."
   ]
  },
  {
   "cell_type": "markdown",
   "id": "ba5410eb-5f1c-439d-8359-4d73010244fd",
   "metadata": {},
   "source": [
    "# 2. Data"
   ]
  },
  {
   "cell_type": "markdown",
   "id": "b986e762-fb83-4fca-b085-a569f8fe948b",
   "metadata": {},
   "source": [
    "Based on definition of our problem, factors that will influence our decission are:\n",
    "\n",
    "- Number of existing hotels in the center of Cordoba (any type of restaurant)\n",
    "- Number of and distance to restaurants in the center\n",
    "- Distance of hotels and restaurants from city center\n",
    "Following data sources will be needed to extract/generate the required information:\n",
    "\n",
    "Centers of candidate areas will be generated algorithmically and approximate addresses of centers of those areas will be obtained using Google Maps API reverse geocoding number of restaurants and their type and location in every neighborhood will be obtained using Foursquare API"
   ]
  },
  {
   "cell_type": "markdown",
   "id": "ff55a945-cbfd-4cf4-bd32-ff0a349d8cae",
   "metadata": {},
   "source": [
    "# 3. Methodology"
   ]
  },
  {
   "cell_type": "markdown",
   "id": "4205fa6a-5b99-4024-a7fe-a6a078c31098",
   "metadata": {},
   "source": [
    "In this project we will direct our efforts on detecting areas of the Cordoba's center that have hotels and restaurants. We will limit our analysis to area ~2km around city center.\n",
    "\n",
    "We have collected the required data: location and type (category) of every hotels + restaurants within 2km from center (Tendillas Square).\n",
    "\n",
    "Next, we will focus on most promising areas and within those create clusters of locations that meet some basic requirements established in discussion with stakeholders: we will take into consideration locations with no more than two hotels and restaurants in radius of 250 meters. We will present map of all such locations but also create clusters (using k-means clustering) of those locations to identify general zones / neighborhoods / addresses which should be a starting point for final 'street level' exploration and search for optimal venue location by stakeholders."
   ]
  },
  {
   "cell_type": "markdown",
   "id": "edef0e60-196f-4286-8855-94fda31a9f71",
   "metadata": {},
   "source": [
    "# 4. Analysis + Results"
   ]
  },
  {
   "cell_type": "markdown",
   "id": "4e615510-8e21-47e7-9794-d9a9af5a17a7",
   "metadata": {},
   "source": [
    "Our analysis shows that although there is a great number of hotels and restaurants in Cordoba. Highest concentration of restaurants was detected west from Tendillas Square (center Point), ad in the north from Tendillas there are a lot of hotels.\n",
    "\n",
    "After directing our attention to this more narrow area of interest (covering approx. 5x5km south-east from Tendillas) we first created a dense grid of location candidates (spaced 100m appart); those locations were then filtered so that those with more than two hotels+ restaurants in radius of 250m.\n",
    "\n",
    "Those location candidates were then clustered to create zones of interest which contain greatest number of location candidates. Addresses of centers of those zones were also generated using reverse geocoding to be used as markers/starting points for more detailed local analysis based on other factors."
   ]
  },
  {
   "cell_type": "markdown",
   "id": "5645318c-2c1d-4b4d-b018-726c1119756c",
   "metadata": {},
   "source": [
    "# 5. Conclusion"
   ]
  },
  {
   "cell_type": "markdown",
   "id": "8a926cbe-f578-41d6-a06b-d6a971e30bdf",
   "metadata": {},
   "source": [
    "Purpose of this project was to identify Cordoba areas close to center with the mains hotels and restaurants in order to aid stakeholders in narrowing down the search for optimal location. By calculating restaurant density distribution from Foursquare data we have first identified general boroughs that justify further analysis, and then generated extensive collection of locations which satisfy some basic requirements regarding existing nearby hotels + restaurants. Clustering of those locations was then performed in order to create major zones of interest (containing greatest number of potential locations) and addresses of those zone centers were created to be used as starting points for final exploration by stakeholders.\n",
    "\n",
    "Final decission on optimal restaurant location will be made by stakeholders based on specific characteristics of neighborhoods and locations in every recommended zone, taking into consideration additional factors like attractiveness of each location (proximity to park or water), levels of noise / proximity to major roads, real estate availability, prices, social and economic dynamics of every neighborhood etc."
   ]
  },
  {
   "cell_type": "code",
   "execution_count": null,
   "id": "888e9ce5-17b2-4434-9bce-f7283ac9afb9",
   "metadata": {},
   "outputs": [],
   "source": []
  }
 ],
 "metadata": {
  "kernelspec": {
   "display_name": "Python",
   "language": "python",
   "name": "conda-env-python-py"
  },
  "language_info": {
   "codemirror_mode": {
    "name": "ipython",
    "version": 3
   },
   "file_extension": ".py",
   "mimetype": "text/x-python",
   "name": "python",
   "nbconvert_exporter": "python",
   "pygments_lexer": "ipython3",
   "version": "3.6.13"
  }
 },
 "nbformat": 4,
 "nbformat_minor": 5
}
