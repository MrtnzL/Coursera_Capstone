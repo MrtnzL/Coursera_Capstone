{
 "cells": [
  {
   "cell_type": "markdown",
   "id": "16338262-6bfd-444e-89e9-13a2555bbbb8",
   "metadata": {},
   "source": [
    "# INTRODUCTION - BUSINESS PROBLEM"
   ]
  },
  {
   "cell_type": "markdown",
   "id": "c4b9554c-19c6-489d-9757-8221416dcc3f",
   "metadata": {},
   "source": [
    "## Define the problem"
   ]
  },
  {
   "cell_type": "markdown",
   "id": "8bc65f01-afc5-42ab-9379-c60cc171f694",
   "metadata": {},
   "source": [
    "The Lopez family lives in Madrid and for work reasons they have to move to a new city, Cordoba. They will be in Córdoba for the next month and a half, and during their stay they will live in the center of the city due to its proximity to the new work office. They will look for a hotel in the city center that is surrounded by restaurants in order to lead a life similar to the one they had in Madrid."
   ]
  },
  {
   "cell_type": "markdown",
   "id": "b047bda0-f66d-4a58-ba5e-b120f0395396",
   "metadata": {},
   "source": [
    "## Describe the data"
   ]
  },
  {
   "cell_type": "markdown",
   "id": "471f0d31-81a7-45e7-8d7e-cb8159028f3d",
   "metadata": {},
   "source": [
    "Sufficient data is needed to know which is the center of the new city. In addition, we must know which are the existing hotels in the center of the city of Córdoba to choose the appropriate one that is surrounded and supported by many restaurants. Therefore, we need data on the center of Córdoba and the number of hotels and their location and the number of restaurants and their location."
   ]
  }
 ],
 "metadata": {
  "kernelspec": {
   "display_name": "Python",
   "language": "python",
   "name": "conda-env-python-py"
  },
  "language_info": {
   "codemirror_mode": {
    "name": "ipython",
    "version": 3
   },
   "file_extension": ".py",
   "mimetype": "text/x-python",
   "name": "python",
   "nbconvert_exporter": "python",
   "pygments_lexer": "ipython3",
   "version": "3.6.13"
  }
 },
 "nbformat": 4,
 "nbformat_minor": 5
}
