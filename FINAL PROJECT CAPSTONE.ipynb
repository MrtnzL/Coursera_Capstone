{
 "cells": [
  {
   "cell_type": "markdown",
   "id": "2c4c9d98-91ff-45e0-b009-e8bddcf6b406",
   "metadata": {},
   "source": [
    "# Notebook Final Project "
   ]
  },
  {
   "cell_type": "markdown",
   "id": "8ad6b8a8-568c-43fe-afa6-8f70ac27d909",
   "metadata": {},
   "source": [
    "## Marta Martinez Lopez"
   ]
  },
  {
   "cell_type": "markdown",
   "id": "378a18c8-b725-4d7d-98b3-8eb330354d3b",
   "metadata": {},
   "source": [
    "### This Notebook will be mainly used for the capstone project"
   ]
  },
  {
   "cell_type": "code",
   "execution_count": 1,
   "id": "7116e3f0-f0cb-4b2a-939f-d91a9fbbd3fd",
   "metadata": {},
   "outputs": [],
   "source": [
    "import pandas as pd"
   ]
  },
  {
   "cell_type": "code",
   "execution_count": 3,
   "id": "6c83a488-508d-40c9-a8b3-c64a29d8d14d",
   "metadata": {},
   "outputs": [],
   "source": [
    "import numpy as pd"
   ]
  },
  {
   "cell_type": "code",
   "execution_count": 7,
   "id": "152e35db-a29f-4d22-8102-5f0ba9131f68",
   "metadata": {},
   "outputs": [
    {
     "name": "stdout",
     "output_type": "stream",
     "text": [
      "Hello Capstone Project Course!\n"
     ]
    }
   ],
   "source": [
    "print (\"Hello Capstone Project Course!\")"
   ]
  },
  {
   "cell_type": "code",
   "execution_count": null,
   "id": "4ee02a47-e529-436d-bd21-05e931d2cf44",
   "metadata": {},
   "outputs": [],
   "source": []
  }
 ],
 "metadata": {
  "kernelspec": {
   "display_name": "Python",
   "language": "python",
   "name": "conda-env-python-py"
  },
  "language_info": {
   "codemirror_mode": {
    "name": "ipython",
    "version": 3
   },
   "file_extension": ".py",
   "mimetype": "text/x-python",
   "name": "python",
   "nbconvert_exporter": "python",
   "pygments_lexer": "ipython3",
   "version": "3.6.13"
  }
 },
 "nbformat": 4,
 "nbformat_minor": 5
}
